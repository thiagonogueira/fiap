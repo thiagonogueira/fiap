{
  "cells": [
    {
      "cell_type": "markdown",
      "id": "d2497f68-e565-4dec-8d5e-ec337e37128e",
      "metadata": {
        "id": "d2497f68-e565-4dec-8d5e-ec337e37128e"
      },
      "source": [
        "Measurements in Qiskit\n",
        "---\n",
        "\n",
        "In this week's lab, we will create and simulate quantum circuits involving measurements using Qiskit.\n",
        "\n",
        "---"
      ]
    },
    {
      "cell_type": "markdown",
      "id": "k0Lsovb5VOKP",
      "metadata": {
        "id": "k0Lsovb5VOKP",
        "jp-MarkdownHeadingCollapsed": true,
        "tags": []
      },
      "source": [
        "## **Part 0: Importing from Qiskit**\n",
        "---\n",
        "\n",
        "Run the cell directly below before doing anything else. This will import all of the functions that we will use today."
      ]
    },
    {
      "cell_type": "code",
      "execution_count": null,
      "id": "LxC62c-hRcYv",
      "metadata": {
        "colab": {
          "base_uri": "https://localhost:8080/"
        },
        "id": "LxC62c-hRcYv",
        "outputId": "776df2e5-a2bb-45c0-83cd-22aad65b7ba5"
      },
      "outputs": [
        {
          "name": "stdout",
          "output_type": "stream",
          "text": [
            "Libraries imported successfully!\n"
          ]
        }
      ],
      "source": [
        "# Importing standard Qiskit libraries\n",
        "from qiskit import QuantumCircuit  #Importing the QuantumCircuit function from Qiskit. We will use this to create our quantum circuits!\n",
        "\n",
        "# We will use these functions to run our circuit and visualize its final state\n",
        "from qiskit import Aer, execute \n",
        "from qiskit.visualization import *\n",
        "\n",
        "import warnings  # We are using this library to suppress some warning messages\n",
        "warnings.filterwarnings(\"ignore\")\n",
        "\n",
        "print(\"Libraries imported successfully!\")"
      ]
    },
    {
      "cell_type": "markdown",
      "id": "sVwVviQORgWa",
      "metadata": {
        "id": "sVwVviQORgWa",
        "jp-MarkdownHeadingCollapsed": true,
        "tags": []
      },
      "source": [
        "## **Part 1: Qiskit Review**\n",
        "---"
      ]
    },
    {
      "cell_type": "markdown",
      "id": "ZSIQ0dQRR5C4",
      "metadata": {
        "id": "ZSIQ0dQRR5C4"
      },
      "source": [
        "#### **Exercise #1** \n",
        "\n",
        "**Together**, let's create and draw a 1-qubit circuit with 1 X gate."
      ]
    },
    {
      "cell_type": "code",
      "execution_count": null,
      "id": "R_uEliZqR_TH",
      "metadata": {
        "id": "R_uEliZqR_TH"
      },
      "outputs": [],
      "source": []
    },
    {
      "cell_type": "markdown",
      "id": "G2Jiv47oR_1l",
      "metadata": {
        "id": "G2Jiv47oR_1l"
      },
      "source": [
        "#### **Exercise #2** \n",
        "\n",
        "**Together**, let's create and run a 1-qubit circuit with 1 H gate using `visualize_transition`. While we wait for this to load, let's continue on to the next problem."
      ]
    },
    {
      "cell_type": "code",
      "execution_count": null,
      "id": "rEz9xMF4SAER",
      "metadata": {
        "id": "rEz9xMF4SAER"
      },
      "outputs": [],
      "source": []
    },
    {
      "cell_type": "markdown",
      "id": "6D6tu3WLSnLU",
      "metadata": {
        "id": "6D6tu3WLSnLU"
      },
      "source": [
        "#### **Exercise #3** \n",
        "\n",
        "**Together**, let's create and draw a 1-qubit circuit with 1 X gate applied first and then 1 H gate."
      ]
    },
    {
      "cell_type": "code",
      "execution_count": null,
      "id": "Q-47vmKlS8b4",
      "metadata": {
        "id": "Q-47vmKlS8b4"
      },
      "outputs": [],
      "source": []
    },
    {
      "cell_type": "markdown",
      "id": "ykyXYmgBTtEC",
      "metadata": {
        "id": "ykyXYmgBTtEC"
      },
      "source": [
        "#### **Exercise #4** \n",
        "Create and run a 1-qubit circuit with 1 H gate applied first and then 1 X gate using `visualize_transition`. While this loads, continue onto the next problems in this section."
      ]
    },
    {
      "cell_type": "code",
      "execution_count": null,
      "id": "PHNuc8AtTtED",
      "metadata": {
        "id": "PHNuc8AtTtED"
      },
      "outputs": [],
      "source": []
    },
    {
      "cell_type": "markdown",
      "id": "K9rWMdyyTMOp",
      "metadata": {
        "id": "K9rWMdyyTMOp"
      },
      "source": [
        "#### **Exercise #5** \n",
        "Create and draw a 1-qubit circuit with 1 X gate applied first and then 3 H gates."
      ]
    },
    {
      "cell_type": "code",
      "execution_count": null,
      "id": "9Fdeaao5TMOq",
      "metadata": {
        "id": "9Fdeaao5TMOq"
      },
      "outputs": [],
      "source": []
    },
    {
      "cell_type": "markdown",
      "id": "_TOpJQlOTT1W",
      "metadata": {
        "id": "_TOpJQlOTT1W"
      },
      "source": [
        "#### **Exercise #6** \n",
        "Create and draw a 1-qubit circuit with gates applied in this order: X, H, X, X, H, X"
      ]
    },
    {
      "cell_type": "code",
      "execution_count": null,
      "id": "hjt9yisVTT1X",
      "metadata": {
        "id": "hjt9yisVTT1X"
      },
      "outputs": [],
      "source": []
    },
    {
      "cell_type": "markdown",
      "id": "caumx9ScTDff",
      "metadata": {
        "id": "caumx9ScTDff",
        "jp-MarkdownHeadingCollapsed": true,
        "tags": []
      },
      "source": [
        "## **Part 2: Measurement in Qiskit**\n",
        "---"
      ]
    },
    {
      "cell_type": "markdown",
      "id": "y5JR0txjUZyR",
      "metadata": {
        "id": "y5JR0txjUZyR"
      },
      "source": [
        "#### **Exercise #1** \n",
        "**Together**, let's create and draw an empty quantum circuit with 1 qubit and 1 classical bit."
      ]
    },
    {
      "cell_type": "code",
      "execution_count": null,
      "id": "N6ssnnzfUZyd",
      "metadata": {
        "id": "N6ssnnzfUZyd"
      },
      "outputs": [],
      "source": []
    },
    {
      "cell_type": "markdown",
      "id": "kbYWRmGaUmcE",
      "metadata": {
        "id": "kbYWRmGaUmcE"
      },
      "source": [
        "#### **Exercise #2** \n",
        "Together, let's create an empty quantum circuit with 1 qubit and 1 classical bit. Then we will measure the qubit's state and store the result in our classical bit. And lastly, we will draw this circuit."
      ]
    },
    {
      "cell_type": "code",
      "execution_count": null,
      "id": "sR4TXTxuVDpr",
      "metadata": {
        "id": "sR4TXTxuVDpr"
      },
      "outputs": [],
      "source": []
    },
    {
      "cell_type": "markdown",
      "id": "k3kK1PR9VIrp",
      "metadata": {
        "id": "k3kK1PR9VIrp"
      },
      "source": [
        "#### **Exercise #3** \n",
        "Together, let's do the same as in #2, but let's also apply an X gate to the qubit before measuring. "
      ]
    },
    {
      "cell_type": "code",
      "execution_count": null,
      "id": "K3JGqCTXVIrq",
      "metadata": {
        "id": "K3JGqCTXVIrq"
      },
      "outputs": [],
      "source": []
    },
    {
      "cell_type": "markdown",
      "id": "TsCjMUG4VTwx",
      "metadata": {
        "id": "TsCjMUG4VTwx"
      },
      "source": [
        "#### **Exercise #4** \n",
        "Now, create a 1-qubit/1-classical bit quantum circuit where you apply an H gate to the qubit and then measure. Draw this circuit."
      ]
    },
    {
      "cell_type": "code",
      "execution_count": null,
      "id": "siwF_iueVTwy",
      "metadata": {
        "id": "siwF_iueVTwy"
      },
      "outputs": [],
      "source": []
    },
    {
      "cell_type": "markdown",
      "id": "Ih8AKCG_Vmhl",
      "metadata": {
        "id": "Ih8AKCG_Vmhl"
      },
      "source": [
        "#### **Exercise #5** \n",
        "Now, create a 1-qubit/1-classical bit quantum circuit where you apply 2 H gates first and 1 X gate to the qubit and then measure. Draw this circuit."
      ]
    },
    {
      "cell_type": "code",
      "execution_count": null,
      "id": "6YE0iTEyVmhm",
      "metadata": {
        "id": "6YE0iTEyVmhm"
      },
      "outputs": [],
      "source": []
    },
    {
      "cell_type": "markdown",
      "id": "e3ZLWTcsUnoQ",
      "metadata": {
        "id": "e3ZLWTcsUnoQ",
        "jp-MarkdownHeadingCollapsed": true,
        "tags": []
      },
      "source": [
        "## **Part 3: QASM Simulator**\n",
        "---"
      ]
    },
    {
      "cell_type": "markdown",
      "id": "QNP9DH5HWS0_",
      "metadata": {
        "id": "QNP9DH5HWS0_"
      },
      "source": [
        "#### **Exercise #1** \n",
        "**Together**, let's simulate a circuit using QASM where we apply no gates and measure."
      ]
    },
    {
      "cell_type": "code",
      "execution_count": null,
      "id": "Enf8fOR5WS1A",
      "metadata": {
        "id": "Enf8fOR5WS1A"
      },
      "outputs": [],
      "source": [
        "# Circuit\n",
        "qc = QuantumCircuit(1, 1)\n",
        "\n",
        "qc.measure(0, 0)\n",
        "\n",
        "\n",
        "# Simulate using QASM\n",
        "backend = Aer.get_backend('qasm_simulator')\n",
        "job = execute(qc, backend = backend, shots = 1024)  # Make sure you change \"qc\" to the name of your quantum circuit in this line!\n",
        "result = job.result()\n",
        "counts = result.get_counts()\n",
        "plot_histogram(counts)"
      ]
    },
    {
      "cell_type": "markdown",
      "id": "Rehr1SbzYJPs",
      "metadata": {
        "id": "Rehr1SbzYJPs"
      },
      "source": [
        "#### **Exercise #2**\n",
        "**Together**, let's simulate a circuit using QASM where we apply 1 H gate and measure. \n",
        "\n",
        "**Before running, what do you expect to happen?**"
      ]
    },
    {
      "cell_type": "code",
      "execution_count": null,
      "id": "O42YK0chYJPs",
      "metadata": {
        "id": "O42YK0chYJPs"
      },
      "outputs": [],
      "source": [
        "# Circuit\n",
        "qc = QuantumCircuit(1, 1)\n",
        "\n",
        "qc.x(0)\n",
        "\n",
        "qc.measure(0, 0)\n",
        "\n",
        "\n",
        "# Simulate using QASM\n",
        "backend = Aer.get_backend('qasm_simulator')\n",
        "job = execute(qc, backend = backend, shots = 1024)  # Make sure you change \"qc\" to the name of your quantum circuit in this line!\n",
        "result = job.result()\n",
        "counts = result.get_counts()\n",
        "plot_histogram(counts)"
      ]
    },
    {
      "cell_type": "markdown",
      "id": "4UdI6A-PaAk3",
      "metadata": {
        "id": "4UdI6A-PaAk3"
      },
      "source": [
        "**After running,** what did you notice? \n",
        "\n",
        "Let's try running it again to see if we get the same results!"
      ]
    },
    {
      "cell_type": "markdown",
      "id": "B0CbjYf2YXKv",
      "metadata": {
        "id": "B0CbjYf2YXKv"
      },
      "source": [
        "#### **Exercise #3** \n",
        "Simulate a circuit using QASM where you apply 1 X gate and measure."
      ]
    },
    {
      "cell_type": "code",
      "execution_count": null,
      "id": "LRD703Y9YXKw",
      "metadata": {
        "id": "LRD703Y9YXKw"
      },
      "outputs": [],
      "source": [
        "# Circuit\n",
        "# Complete this part\n",
        "\n",
        "\n",
        "# Simulate using QASM\n",
        "backend = Aer.get_backend('qasm_simulator')\n",
        "job = execute(qc, backend = backend, shots = 1024)  # Make sure you change \"qc\" to the name of your quantum circuit in this line!\n",
        "result = job.result()\n",
        "counts = result.get_counts()\n",
        "plot_histogram(counts)"
      ]
    },
    {
      "cell_type": "markdown",
      "id": "h65IT25UYs1W",
      "metadata": {
        "id": "h65IT25UYs1W"
      },
      "source": [
        "#### **Exercise #4** \n",
        "Simulate a circuit using QASM where you apply 1 H gate and 1 X gate and measure."
      ]
    },
    {
      "cell_type": "code",
      "execution_count": null,
      "id": "vt2SMBzwYs1X",
      "metadata": {
        "id": "vt2SMBzwYs1X"
      },
      "outputs": [],
      "source": [
        "# Circuit\n",
        "# Complete this part\n",
        "\n",
        "\n",
        "# Simulate using QASM\n",
        "backend = Aer.get_backend('qasm_simulator')\n",
        "job = execute(qc, backend = backend, shots = 1024)  # Make sure you change \"qc\" to the name of your quantum circuit in this line!\n",
        "result = job.result()\n",
        "counts = result.get_counts()\n",
        "plot_histogram(counts)"
      ]
    },
    {
      "cell_type": "markdown",
      "id": "oBiIpjSdYzP1",
      "metadata": {
        "id": "oBiIpjSdYzP1"
      },
      "source": [
        "#### **Exercise #5** \n",
        "Simulate a circuit using QASM where you apply 1 X gate and 1 H gate and measure. NOTE: This is the reverse of #4."
      ]
    },
    {
      "cell_type": "code",
      "execution_count": null,
      "id": "M7CmGHNYYzP2",
      "metadata": {
        "id": "M7CmGHNYYzP2"
      },
      "outputs": [],
      "source": [
        "# Circuit\n",
        "# Complete this part\n",
        "\n",
        "\n",
        "# Simulate using QASM\n",
        "backend = Aer.get_backend('qasm_simulator')\n",
        "job = execute(qc, backend = backend, shots = 1024)  # Make sure you change \"qc\" to the name of your quantum circuit in this line!\n",
        "result = job.result()\n",
        "counts = result.get_counts()\n",
        "plot_histogram(counts)"
      ]
    },
    {
      "cell_type": "markdown",
      "id": "g4YvgRX9Y8hf",
      "metadata": {
        "id": "g4YvgRX9Y8hf"
      },
      "source": [
        "#### **Exercise #6** \n",
        "Simulate a circuit using QASM where you apply 2 H gates and measure."
      ]
    },
    {
      "cell_type": "code",
      "execution_count": null,
      "id": "lfp8bP2oY8hg",
      "metadata": {
        "id": "lfp8bP2oY8hg"
      },
      "outputs": [],
      "source": [
        "# Circuit\n",
        "# Complete this part\n",
        "\n",
        "\n",
        "# Simulate using QASM\n",
        "backend = Aer.get_backend('qasm_simulator')\n",
        "job = execute(qc, backend = backend, shots = 1024)  # Make sure you change \"qc\" to the name of your quantum circuit in this line!\n",
        "result = job.result()\n",
        "counts = result.get_counts()\n",
        "plot_histogram(counts)"
      ]
    },
    {
      "cell_type": "markdown",
      "id": "hQJELyD6aeJ2",
      "metadata": {
        "id": "hQJELyD6aeJ2"
      },
      "source": []
    }
  ],
  "metadata": {
    "colab": {
      "collapsed_sections": [
        "k0Lsovb5VOKP"
      ],
      "provenance": []
    },
    "kernelspec": {
      "display_name": "Qiskit v0.31.0 (ipykernel)",
      "language": "python",
      "name": "python3"
    },
    "language_info": {
      "codemirror_mode": {
        "name": "ipython",
        "version": 3
      },
      "file_extension": ".py",
      "mimetype": "text/x-python",
      "name": "python",
      "nbconvert_exporter": "python",
      "pygments_lexer": "ipython3",
      "version": "3.8.10"
    }
  },
  "nbformat": 4,
  "nbformat_minor": 5
}
