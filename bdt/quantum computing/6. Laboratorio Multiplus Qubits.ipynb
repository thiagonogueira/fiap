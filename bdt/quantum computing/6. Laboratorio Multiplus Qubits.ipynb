{
  "cells": [
    {
      "cell_type": "markdown",
      "id": "d2497f68-e565-4dec-8d5e-ec337e37128e",
      "metadata": {
        "id": "d2497f68-e565-4dec-8d5e-ec337e37128e"
      },
      "source": [
        "The Z Gate and Multi-Qubit Circuits\n",
        "---\n",
        "\n",
        "### **Description**:  \n",
        "In this week's lab, we will create and simulate quantum circuits involving the Z gate, multi-qubit circuits, and mulit-qubit gates.\n",
        "\n",
        "<br>\n",
        "\n",
        "### **Cheat Sheet**:  [Qiskit Cheat Sheet](https://docs.google.com/document/d/1GArKBUksi4pMgcEBc4OpvWp2KREPpnQvq0AgyijJnkI/edit?usp=share_link)\n",
        "\n",
        "---"
      ]
    },
    {
      "cell_type": "markdown",
      "id": "k0Lsovb5VOKP",
      "metadata": {
        "id": "k0Lsovb5VOKP",
        "jp-MarkdownHeadingCollapsed": true,
        "tags": []
      },
      "source": [
        "## **Part 0: Importing from Qiskit**\n",
        "---\n",
        "\n",
        "Run the cell directly below before doing anything else. This will import all of the functions that we will use today."
      ]
    },
    {
      "cell_type": "code",
      "execution_count": null,
      "id": "LxC62c-hRcYv",
      "metadata": {
        "id": "LxC62c-hRcYv"
      },
      "outputs": [],
      "source": [
        "# Importing standard Qiskit libraries\n",
        "from qiskit import QuantumCircuit  #Importing the QuantumCircuit function from Qiskit. We will use this to create our quantum circuits!\n",
        "\n",
        "# We will use these functions to run our circuit and visualize its final state\n",
        "from qiskit import Aer, execute \n",
        "from qiskit.visualization import *\n",
        "\n",
        "import warnings  # We are using this library to suppress some warning messages\n",
        "warnings.filterwarnings(\"ignore\")\n",
        "\n",
        "print(\"Libraries imported successfully!\")"
      ]
    },
    {
      "cell_type": "markdown",
      "id": "sVwVviQORgWa",
      "metadata": {
        "id": "sVwVviQORgWa",
        "jp-MarkdownHeadingCollapsed": true,
        "tags": []
      },
      "source": [
        "## **Part 1: Review**\n",
        "---"
      ]
    },
    {
      "cell_type": "markdown",
      "id": "K6XmrePfhCLo",
      "metadata": {
        "id": "K6XmrePfhCLo"
      },
      "source": [
        "#### **Exercise #1** \n",
        "\n",
        "**Together**, let's create and draw a 1-qubit circuit with 1 X gate."
      ]
    },
    {
      "cell_type": "code",
      "execution_count": null,
      "id": "9QAVDb6IhGcs",
      "metadata": {
        "id": "9QAVDb6IhGcs"
      },
      "outputs": [],
      "source": [
        "qc = # COMPLETE THIS LINE\n",
        "\n",
        "# ADD AN X GATE\n",
        "\n",
        "qc.draw()"
      ]
    },
    {
      "cell_type": "markdown",
      "id": "2vyRNU7PiSSh",
      "metadata": {
        "id": "2vyRNU7PiSSh"
      },
      "source": [
        "Now, let's simulate this rotation on the Bloch sphere using `visualize_transition(qc, trace = True, fpg = 5)`.\n",
        "\n",
        "\n",
        "**NOTE**: This last parameter, `fpg = 5`, is the \"frames per gate\", which we can set to a low number such as 5 or 10 to make load `visualize_transition` more quickly."
      ]
    },
    {
      "cell_type": "code",
      "execution_count": null,
      "id": "qIQwcsfjif1_",
      "metadata": {
        "id": "qIQwcsfjif1_"
      },
      "outputs": [],
      "source": [
        "visualize_transition(qc, trace = True, fpg = 5)"
      ]
    },
    {
      "cell_type": "markdown",
      "id": "1wgAAT45hRE5",
      "metadata": {
        "id": "1wgAAT45hRE5"
      },
      "source": [
        "#### **Exercise #2** \n",
        "\n",
        "**Together**, let's create and draw a 1-qubit circuit with 2 X gates and a measurement. \n",
        "\n",
        "Then, simulate the measurement results of running this circuit using QASM - the code has already been provided."
      ]
    },
    {
      "cell_type": "code",
      "execution_count": null,
      "id": "4XrFIeHuhXiV",
      "metadata": {
        "id": "4XrFIeHuhXiV"
      },
      "outputs": [],
      "source": [
        "qc = # COMPLETE THIS LINE\n",
        "\n",
        "qc.x(0)\n",
        "qc.x(0)\n",
        "\n",
        "qc.measure(# COMPLETE THIS LINE)\n",
        "\n",
        "qc.draw()"
      ]
    },
    {
      "cell_type": "markdown",
      "id": "TYPbF0pbh2DM",
      "metadata": {
        "id": "TYPbF0pbh2DM"
      },
      "source": [
        "**Run the code below to simulate the measurement results using QASM.**"
      ]
    },
    {
      "cell_type": "code",
      "execution_count": null,
      "id": "GJdKzNEMh75k",
      "metadata": {
        "id": "GJdKzNEMh75k"
      },
      "outputs": [],
      "source": [
        "# Simulate using QASM\n",
        "backend = Aer.get_backend('qasm_simulator')\n",
        "job = execute(qc, backend = backend, shots = 1024)  # Make sure you change \"qc\" to the name of your quantum circuit in this line!\n",
        "result = job.result()\n",
        "counts = result.get_counts()\n",
        "plot_histogram(counts)"
      ]
    },
    {
      "cell_type": "markdown",
      "id": "CTQfTPUVhAQv",
      "metadata": {
        "id": "CTQfTPUVhAQv",
        "jp-MarkdownHeadingCollapsed": true,
        "tags": []
      },
      "source": [
        "## **Part 2: The Z Gate**\n",
        "---"
      ]
    },
    {
      "cell_type": "markdown",
      "id": "ZSIQ0dQRR5C4",
      "metadata": {
        "id": "ZSIQ0dQRR5C4"
      },
      "source": [
        "#### **Exercise #1** \n",
        "\n",
        "**Together**, let's create and draw a 1-qubit circuit with 1 Z gate."
      ]
    },
    {
      "cell_type": "code",
      "execution_count": null,
      "id": "R_uEliZqR_TH",
      "metadata": {
        "id": "R_uEliZqR_TH"
      },
      "outputs": [],
      "source": [
        "qc = QuantumCircuit(1)\n",
        "\n",
        "# ADD A Z GATE\n",
        "\n",
        "qc.draw()"
      ]
    },
    {
      "cell_type": "markdown",
      "id": "G2Jiv47oR_1l",
      "metadata": {
        "id": "G2Jiv47oR_1l"
      },
      "source": [
        "#### **Exercise #2** \n",
        "\n",
        "**Together**, let's create and run a 1-qubit circuit with 1 Z gate using `visualize_transition` with `fpg = 5`."
      ]
    },
    {
      "cell_type": "code",
      "execution_count": null,
      "id": "rEz9xMF4SAER",
      "metadata": {
        "id": "rEz9xMF4SAER"
      },
      "outputs": [],
      "source": [
        "# COMPLETE THIS CODE\n",
        "\n",
        "visualize_transition(qc, trace = True, fpg = 5)"
      ]
    },
    {
      "cell_type": "markdown",
      "id": "6D6tu3WLSnLU",
      "metadata": {
        "id": "6D6tu3WLSnLU"
      },
      "source": [
        "#### **Exercise #3** \n",
        "\n",
        "**Together**, let's create and draw a 1-qubit circuit with 1 X gate applied first and then 1 Z gate, with a measurement at the end.\n",
        "\n",
        "Then, simulate the measurement results using QASM; the code has been provided."
      ]
    },
    {
      "cell_type": "code",
      "execution_count": null,
      "id": "Q-47vmKlS8b4",
      "metadata": {
        "id": "Q-47vmKlS8b4"
      },
      "outputs": [],
      "source": [
        "qc = # COMPLETE THIS LINE\n",
        "\n",
        "# ADD X AND THEN Z GATE\n",
        "\n",
        "# MEASURE\n",
        "\n",
        "qc.draw()"
      ]
    },
    {
      "cell_type": "markdown",
      "id": "SBXIPC2Km0x9",
      "metadata": {
        "id": "SBXIPC2Km0x9"
      },
      "source": [
        "**Run the code below to simulate the measurement results using QASM.**"
      ]
    },
    {
      "cell_type": "code",
      "execution_count": null,
      "id": "3BjoAoXd67LD",
      "metadata": {
        "id": "3BjoAoXd67LD"
      },
      "outputs": [],
      "source": [
        "# Simulate using QASM\n",
        "backend = Aer.get_backend('qasm_simulator')\n",
        "job = execute(qc, backend = backend, shots = 1024)  # Make sure you change \"qc\" to the name of your quantum circuit in this line!\n",
        "result = job.result()\n",
        "counts = result.get_counts()\n",
        "plot_histogram(counts)"
      ]
    },
    {
      "cell_type": "markdown",
      "id": "Xp-_zh-s7H0h",
      "metadata": {
        "id": "Xp-_zh-s7H0h"
      },
      "source": [
        "#### **Exercise #4** \n",
        "\n",
        "Independently, create and draw a 1-qubit circuit with gates applied in the order listed below with a measurement at the end. Then, simulate the measurement results using QASM; the code is provided below. \n",
        "\n",
        "**Gates:**\n",
        "\n",
        "**H**\n",
        "\n",
        "**Z**"
      ]
    },
    {
      "cell_type": "code",
      "execution_count": null,
      "id": "z5a1aDYs7H0i",
      "metadata": {
        "id": "z5a1aDYs7H0i"
      },
      "outputs": [],
      "source": []
    },
    {
      "cell_type": "markdown",
      "id": "Y67p4R6im31p",
      "metadata": {
        "id": "Y67p4R6im31p"
      },
      "source": [
        "**Run the code below to simulate the measurement results using QASM.**"
      ]
    },
    {
      "cell_type": "code",
      "execution_count": null,
      "id": "AWI7I3nN7H0j",
      "metadata": {
        "id": "AWI7I3nN7H0j"
      },
      "outputs": [],
      "source": [
        "# Simulate using QASM\n",
        "backend = Aer.get_backend('qasm_simulator')\n",
        "job = execute(qc, backend = backend, shots = 1024)  # Make sure you change \"qc\" to the name of your quantum circuit in this line!\n",
        "result = job.result()\n",
        "counts = result.get_counts()\n",
        "plot_histogram(counts)"
      ]
    },
    {
      "cell_type": "markdown",
      "id": "67zw1hq27g4W",
      "metadata": {
        "id": "67zw1hq27g4W"
      },
      "source": [
        "#### **Exercise #5** \n",
        "\n",
        "Independently, create and draw a 1-qubit circuit with gates applied in the order listed below with a measurement at the end. Then, simulate the measurement results using QASM; the code is provided below. \n",
        "\n",
        "**Gates:**\n",
        "\n",
        "**H**\n",
        "\n",
        "**Z**\n",
        "\n",
        "**X**"
      ]
    },
    {
      "cell_type": "code",
      "execution_count": null,
      "id": "jMQt5Qdx7g4X",
      "metadata": {
        "id": "jMQt5Qdx7g4X"
      },
      "outputs": [],
      "source": []
    },
    {
      "cell_type": "markdown",
      "id": "tQp94a5Hm6va",
      "metadata": {
        "id": "tQp94a5Hm6va"
      },
      "source": [
        "**Run the code below to simulate the measurement results using QASM.**"
      ]
    },
    {
      "cell_type": "code",
      "execution_count": null,
      "id": "G7zvdXIp7g4X",
      "metadata": {
        "id": "G7zvdXIp7g4X"
      },
      "outputs": [],
      "source": [
        "# Simulate using QASM\n",
        "backend = Aer.get_backend('qasm_simulator')\n",
        "job = execute(qc, backend = backend, shots = 1024)  # Make sure you change \"qc\" to the name of your quantum circuit in this line!\n",
        "result = job.result()\n",
        "counts = result.get_counts()\n",
        "plot_histogram(counts)"
      ]
    },
    {
      "cell_type": "markdown",
      "id": "caumx9ScTDff",
      "metadata": {
        "id": "caumx9ScTDff",
        "jp-MarkdownHeadingCollapsed": true,
        "tags": []
      },
      "source": [
        "## **Part 3: Multi-Qubit Circuits**\n",
        "---"
      ]
    },
    {
      "cell_type": "markdown",
      "id": "q3wnJoZBAArd",
      "metadata": {
        "id": "q3wnJoZBAArd"
      },
      "source": [
        "#### **Exercise #1** \n",
        "\n",
        "**Together**, let's create and draw a 2-qubit/2-classical bit circuit with no gates applied, with a measurement of both qubits at the end. Then, simulate the measurement results using QASM; the code is provided below. "
      ]
    },
    {
      "cell_type": "code",
      "execution_count": null,
      "id": "FEQYfOvGAArp",
      "metadata": {
        "id": "FEQYfOvGAArp"
      },
      "outputs": [],
      "source": [
        "qc = QuantumCircuit(2, 2) \n",
        "\n",
        "# MEASURE ON THIS LINE\n",
        "\n",
        "qc.draw()"
      ]
    },
    {
      "cell_type": "markdown",
      "id": "ik79KJPqnUj9",
      "metadata": {
        "id": "ik79KJPqnUj9"
      },
      "source": [
        "**Run the code below to simulate the measurement results using QASM.**"
      ]
    },
    {
      "cell_type": "code",
      "execution_count": null,
      "id": "u1yWnAufAArq",
      "metadata": {
        "id": "u1yWnAufAArq"
      },
      "outputs": [],
      "source": [
        "# Simulate using QASM\n",
        "backend = Aer.get_backend('qasm_simulator')\n",
        "job = execute(qc, backend = backend, shots = 1024)  # Make sure you change \"qc\" to the name of your quantum circuit in this line!\n",
        "result = job.result()\n",
        "counts = result.get_counts()\n",
        "plot_histogram(counts)"
      ]
    },
    {
      "cell_type": "markdown",
      "id": "8rVSC1-7APbW",
      "metadata": {
        "id": "8rVSC1-7APbW"
      },
      "source": [
        "#### **Exercise #2** \n",
        "\n",
        "**Together**, let's create and draw a 2-qubit/2-classical bit circuit with gates applied in the order given below, with a measurement of both qubits at the end. Then, simulate the measurement results using QASM; the code is provided below. \n",
        "\n",
        "**Gates:**\n",
        "\n",
        "**Z on qubit 0 (we can call this Z0)**\n",
        "\n",
        "**H on qubit 0 (we can call this H0)**\n",
        "\n",
        "**X on qubit 1 (we can call this X1)**"
      ]
    },
    {
      "cell_type": "code",
      "execution_count": null,
      "id": "VZmL6jVSAPbX",
      "metadata": {
        "id": "VZmL6jVSAPbX"
      },
      "outputs": [],
      "source": [
        "qc = # COMPLETE THIS LINE\n",
        "\n",
        "qc.z(0)\n",
        "qc.h(0)\n",
        "qc.x(1)\n",
        "\n",
        "# MEASURE BOTH QUBITS\n",
        "\n",
        "qc.draw()"
      ]
    },
    {
      "cell_type": "markdown",
      "id": "rt180SpJnnNV",
      "metadata": {
        "id": "rt180SpJnnNV"
      },
      "source": [
        "**Run the code below to simulate the measurement results using QASM.**"
      ]
    },
    {
      "cell_type": "code",
      "execution_count": null,
      "id": "4qhDvgx-APbX",
      "metadata": {
        "id": "4qhDvgx-APbX"
      },
      "outputs": [],
      "source": [
        "# Simulate using QASM\n",
        "backend = Aer.get_backend('qasm_simulator')\n",
        "job = execute(qc, backend = backend, shots = 1024)  # Make sure you change \"qc\" to the name of your quantum circuit in this line!\n",
        "result = job.result()\n",
        "counts = result.get_counts()\n",
        "plot_histogram(counts)"
      ]
    },
    {
      "cell_type": "markdown",
      "id": "rEjg2GiSCc_z",
      "metadata": {
        "id": "rEjg2GiSCc_z"
      },
      "source": [
        "#### **Exercise #3** \n",
        "\n",
        "**Together**, let's create and draw a 3-qubit/2-classical bit circuit with gates applied in the order given below, with a **measurement of just qubits 1 and 2** at the end. Then, simulate the measurement results using QASM; the code is provided below. \n",
        "\n",
        "**Gates:**\n",
        "\n",
        "**X on qubit 0 (we can call this X0)**\n",
        "\n",
        "**H on qubit 1 (we can call this H1)**\n",
        "\n",
        "**Z on qubit 2 (we can call this Z2)**"
      ]
    },
    {
      "cell_type": "code",
      "execution_count": null,
      "id": "DuwBd10lCc__",
      "metadata": {
        "id": "DuwBd10lCc__"
      },
      "outputs": [],
      "source": [
        "qc = # COMPLETE THIS LINE\n",
        "\n",
        "qc.x(0)\n",
        "qc.h(1)\n",
        "qc.z(2)\n",
        "\n",
        "qc.measure(# COMPLETE THIS LINE)\n",
        "\n",
        "qc.draw()"
      ]
    },
    {
      "cell_type": "markdown",
      "id": "vwyfrr29oEbI",
      "metadata": {
        "id": "vwyfrr29oEbI"
      },
      "source": [
        "**Run the code below to simulate the measurement results using QASM.**"
      ]
    },
    {
      "cell_type": "code",
      "execution_count": null,
      "id": "_QIFB6TBCc__",
      "metadata": {
        "id": "_QIFB6TBCc__"
      },
      "outputs": [],
      "source": [
        "# Simulate using QASM\n",
        "backend = Aer.get_backend('qasm_simulator')\n",
        "job = execute(qc, backend = backend, shots = 1024)  # Make sure you change \"qc\" to the name of your quantum circuit in this line!\n",
        "result = job.result()\n",
        "counts = result.get_counts()\n",
        "plot_histogram(counts)"
      ]
    },
    {
      "cell_type": "markdown",
      "id": "8ieCZ2l8BmYO",
      "metadata": {
        "id": "8ieCZ2l8BmYO"
      },
      "source": [
        "#### **Exercise #4** \n",
        "\n",
        "Independently, create and draw a 2-qubit/2-classical bit circuit with gates applied in the order given below, with a measurement of both qubits at the end. Then, simulate the measurement results using QASM; the code is provided below.\n",
        "\n",
        "**Gates:**\n",
        "\n",
        "**X on qubit 0 (we can call this X0)**\n",
        "\n",
        "**H on qubit 0 (we can call this H0)**\n",
        "\n",
        "**H on qubit 1 (we can call this H1)**"
      ]
    },
    {
      "cell_type": "code",
      "execution_count": null,
      "id": "WYFYJ1cpBmYR",
      "metadata": {
        "id": "WYFYJ1cpBmYR"
      },
      "outputs": [],
      "source": []
    },
    {
      "cell_type": "markdown",
      "id": "qiuXdLaCoB_7",
      "metadata": {
        "id": "qiuXdLaCoB_7"
      },
      "source": [
        "**Run the code below to simulate the measurement results using QASM.**"
      ]
    },
    {
      "cell_type": "code",
      "execution_count": null,
      "id": "o7gbzEZGBmYS",
      "metadata": {
        "id": "o7gbzEZGBmYS"
      },
      "outputs": [],
      "source": [
        "# Simulate using QASM\n",
        "backend = Aer.get_backend('qasm_simulator')\n",
        "job = execute(qc, backend = backend, shots = 1024)  # Make sure you change \"qc\" to the name of your quantum circuit in this line!\n",
        "result = job.result()\n",
        "counts = result.get_counts()\n",
        "plot_histogram(counts)"
      ]
    },
    {
      "cell_type": "markdown",
      "id": "xaS4N6Y4D-6a",
      "metadata": {
        "id": "xaS4N6Y4D-6a",
        "jp-MarkdownHeadingCollapsed": true,
        "tags": []
      },
      "source": [
        "## **Part 4: The CX Gate**\n",
        "---"
      ]
    },
    {
      "cell_type": "markdown",
      "id": "IVoAH_LND-6a",
      "metadata": {
        "id": "IVoAH_LND-6a"
      },
      "source": [
        "#### **Exercise #1** \n",
        "\n",
        "**Together**, let's create and draw a 2-qubit/2-classical bit circuit with the CX gate applied such that qubit 0 is the control and qubit 1 is the target, with a measurement of both qubits at the end. Then, simulate the measurement results using QASM; the code is provided below. "
      ]
    },
    {
      "cell_type": "code",
      "execution_count": null,
      "id": "HyQe603zD-6b",
      "metadata": {
        "id": "HyQe603zD-6b"
      },
      "outputs": [],
      "source": [
        "qc = QuantumCircuit(2, 2)\n",
        "\n",
        "# APPLY A CX GATE TO QUBITS 0 AND 1\n",
        "\n",
        "qc.measure([0, 1], [0, 1])\n",
        "\n",
        "qc.draw()"
      ]
    },
    {
      "cell_type": "markdown",
      "id": "xb3l5e1noUBr",
      "metadata": {
        "id": "xb3l5e1noUBr"
      },
      "source": [
        "**Run the code below to simulate the measurement results using QASM.**"
      ]
    },
    {
      "cell_type": "code",
      "execution_count": null,
      "id": "7FIDwW5pD-6b",
      "metadata": {
        "id": "7FIDwW5pD-6b"
      },
      "outputs": [],
      "source": [
        "# Simulate using QASM\n",
        "backend = Aer.get_backend('qasm_simulator')\n",
        "job = execute(qc, backend = backend, shots = 1024)  # Make sure you change \"qc\" to the name of your quantum circuit in this line!\n",
        "result = job.result()\n",
        "counts = result.get_counts()\n",
        "plot_histogram(counts)"
      ]
    },
    {
      "cell_type": "markdown",
      "id": "y_nMHAGFEhRw",
      "metadata": {
        "id": "y_nMHAGFEhRw"
      },
      "source": [
        "#### **Exercise #2** \n",
        "\n",
        "**Together**, let's create and draw a 2-qubit/2-classical bit circuit with gates applied as given below, with a measurement of both qubits at the end. Then, simulate the measurement results using QASM; the code is provided below. \n",
        "\n",
        "**Gates**:\n",
        "\n",
        "**X on qubit 0**\n",
        "\n",
        "**CX with qubit 0 as the control and qubit 1 as the target**"
      ]
    },
    {
      "cell_type": "code",
      "execution_count": null,
      "id": "ANyfLhGCEhRw",
      "metadata": {
        "id": "ANyfLhGCEhRw"
      },
      "outputs": [],
      "source": [
        "qc = QuantumCircuit(2, 2)\n",
        "\n",
        "# APPLY AN X GATE TO QUBIT 0\n",
        "# APPLY A CX GATE TO QUBITS 0 AND 1\n",
        "\n",
        "qc.measure([0, 1], [0, 1])\n",
        "\n",
        "qc.draw()"
      ]
    },
    {
      "cell_type": "markdown",
      "id": "JWtLQnDloenI",
      "metadata": {
        "id": "JWtLQnDloenI"
      },
      "source": [
        "**Run the code below to simulate the measurement results using QASM.**"
      ]
    },
    {
      "cell_type": "code",
      "execution_count": null,
      "id": "YLL1zhhGEhRw",
      "metadata": {
        "id": "YLL1zhhGEhRw"
      },
      "outputs": [],
      "source": [
        "# Simulate using QASM\n",
        "backend = Aer.get_backend('qasm_simulator')\n",
        "job = execute(qc, backend = backend, shots = 1024)  # Make sure you change \"qc\" to the name of your quantum circuit in this line!\n",
        "result = job.result()\n",
        "counts = result.get_counts()\n",
        "plot_histogram(counts)"
      ]
    },
    {
      "cell_type": "markdown",
      "id": "urlYp4XGEYy9",
      "metadata": {
        "id": "urlYp4XGEYy9"
      },
      "source": [
        "#### **Exercise #3** \n",
        "\n",
        "**Together**, let's create and draw a 2-qubit/2-classical bit circuit with the CX gate applied such that now qubit 1 is the control and qubit 0 is the target, with a measurement of both qubits at the end. Then, simulate the measurement results using QASM; the code is provided below. "
      ]
    },
    {
      "cell_type": "code",
      "execution_count": null,
      "id": "LdexUYtNEYy-",
      "metadata": {
        "id": "LdexUYtNEYy-"
      },
      "outputs": [],
      "source": [
        "qc = QuantumCircuit(2, 2)\n",
        "\n",
        "# APPLY A CX GATE WITH QUBITS 1 AND 0\n",
        "\n",
        "qc.measure([0, 1], [0, 1])\n",
        "\n",
        "qc.draw()"
      ]
    },
    {
      "cell_type": "markdown",
      "id": "eKXB-6sboZ8E",
      "metadata": {
        "id": "eKXB-6sboZ8E"
      },
      "source": [
        "**Run the code below to simulate the measurement results using QASM.**"
      ]
    },
    {
      "cell_type": "code",
      "execution_count": null,
      "id": "7juf-ooUEYy_",
      "metadata": {
        "id": "7juf-ooUEYy_"
      },
      "outputs": [],
      "source": [
        "# Simulate using QASM\n",
        "backend = Aer.get_backend('qasm_simulator')\n",
        "job = execute(qc, backend = backend, shots = 1024)  # Make sure you change \"qc\" to the name of your quantum circuit in this line!\n",
        "result = job.result()\n",
        "counts = result.get_counts()\n",
        "plot_histogram(counts)"
      ]
    },
    {
      "cell_type": "markdown",
      "id": "9NwvSA03E70g",
      "metadata": {
        "id": "9NwvSA03E70g"
      },
      "source": [
        "#### **Exercise #4: Creating Superposition** \n",
        "\n",
        "Independently, create and draw a 2-qubit/2-classical bit circuit with gates applied as given below, with a measurement of both qubits at the end. We will end up creating superposition without entanglement in this circuit. Then, simulate the measurement results using QASM; the code is provided below. \n",
        "\n",
        "**Gates**:\n",
        "\n",
        "**CX with qubit 0 as the control and qubit 1 as the target**\n",
        "\n",
        "**H on qubit 1**"
      ]
    },
    {
      "cell_type": "code",
      "execution_count": null,
      "id": "EXne_jVfE70s",
      "metadata": {
        "id": "EXne_jVfE70s"
      },
      "outputs": [],
      "source": []
    },
    {
      "cell_type": "markdown",
      "id": "nfV1zeElo9_H",
      "metadata": {
        "id": "nfV1zeElo9_H"
      },
      "source": [
        "**Run the code below to simulate the measurement results using QASM.**"
      ]
    },
    {
      "cell_type": "code",
      "execution_count": null,
      "id": "kovKqbTWE70s",
      "metadata": {
        "id": "kovKqbTWE70s"
      },
      "outputs": [],
      "source": [
        "# Simulate using QASM\n",
        "backend = Aer.get_backend('qasm_simulator')\n",
        "job = execute(qc, backend = backend, shots = 1024)  # Make sure you change \"qc\" to the name of your quantum circuit in this line!\n",
        "result = job.result()\n",
        "counts = result.get_counts()\n",
        "plot_histogram(counts)"
      ]
    },
    {
      "cell_type": "markdown",
      "id": "qlr9yUj4pE-j",
      "metadata": {
        "id": "qlr9yUj4pE-j"
      },
      "source": [
        "You should notice a roughly 50/50 split of the $| 00 \\rangle$ and $| 10 \\rangle$ states. The fact that we can get both of these states comes from the superposition we create with the H gate. However, there is no entanglement here, which is demonstrated by the fact that qubit 0 is always in the $| 0 \\rangle$ state regardless of what state qubit 1 is in."
      ]
    },
    {
      "cell_type": "markdown",
      "id": "EuF-sOPuFKr1",
      "metadata": {
        "id": "EuF-sOPuFKr1"
      },
      "source": [
        "#### **Exercise #5: Creating Entanglement** \n",
        "\n",
        "Independently, create and draw a 2-qubit/2-classical bit circuit with gates applied as given below, with a measurement of both qubits at the end. Here, you will end up creating your very first entangled state! Then, simulate the measurement results using QASM; the code is provided below. \n",
        "\n",
        "**Gates**:\n",
        "\n",
        "**H on qubit 0**\n",
        "\n",
        "**CX with qubit 0 as the control and qubit 1 as the target**"
      ]
    },
    {
      "cell_type": "code",
      "execution_count": null,
      "id": "yLFveHN3FKr2",
      "metadata": {
        "id": "yLFveHN3FKr2"
      },
      "outputs": [],
      "source": []
    },
    {
      "cell_type": "markdown",
      "id": "_q-KvK3gpzPv",
      "metadata": {
        "id": "_q-KvK3gpzPv"
      },
      "source": [
        "**Run the code below to simulate the measurement results using QASM.**"
      ]
    },
    {
      "cell_type": "code",
      "execution_count": null,
      "id": "9sXWedlGFKr2",
      "metadata": {
        "id": "9sXWedlGFKr2"
      },
      "outputs": [],
      "source": [
        "# Simulate using QASM\n",
        "backend = Aer.get_backend('qasm_simulator')\n",
        "job = execute(qc, backend = backend, shots = 1024)  # Make sure you change \"qc\" to the name of your quantum circuit in this line!\n",
        "result = job.result()\n",
        "counts = result.get_counts()\n",
        "plot_histogram(counts)"
      ]
    },
    {
      "cell_type": "markdown",
      "id": "Eyaxa1PlFTrJ",
      "metadata": {
        "id": "Eyaxa1PlFTrJ"
      },
      "source": [
        "**CONGRATULATIONS, YOU JUST CREATED YOUR FIRST ENTANGLED STATE!**\n",
        "\n",
        "Notice that you can get different results out each time, so there is superposition. But no matter what, both qubits *must* be in the same state. The way that this relationship comes about is fundamentally quantum mechanical!"
      ]
    },
    {
      "cell_type": "markdown",
      "id": "-Lw_f0yHFo4W",
      "metadata": {
        "id": "-Lw_f0yHFo4W"
      },
      "source": [
        "#### **Exercise #6: Creating Entanglement II** \n",
        "\n",
        "Independently, create and draw a 2-qubit/2-classical bit circuit with gates applied as given below, with a measurement of both qubits at the end. Here, you will create entanglement and then begin to modify it by adjusting just one qubit. Then, simulate the measurement results using QASM; the code is provided below. \n",
        "\n",
        "**Gates**:\n",
        "\n",
        "**H on qubit 0**\n",
        "\n",
        "**CX with qubit 0 as the control and qubit 1 as the target**\n",
        "\n",
        "**X on qubit 1**"
      ]
    },
    {
      "cell_type": "code",
      "execution_count": null,
      "id": "PLWm_FJoFo4X",
      "metadata": {
        "id": "PLWm_FJoFo4X"
      },
      "outputs": [],
      "source": []
    },
    {
      "cell_type": "markdown",
      "id": "DXXZZutaqJZH",
      "metadata": {
        "id": "DXXZZutaqJZH"
      },
      "source": [
        "**Run the code below to simulate the measurement results using QASM.**"
      ]
    },
    {
      "cell_type": "code",
      "execution_count": null,
      "id": "XnoYQhC7Fo4X",
      "metadata": {
        "id": "XnoYQhC7Fo4X"
      },
      "outputs": [],
      "source": [
        "# Simulate using QASM\n",
        "backend = Aer.get_backend('qasm_simulator')\n",
        "job = execute(qc, backend = backend, shots = 1024)  # Make sure you change \"qc\" to the name of your quantum circuit in this line!\n",
        "result = job.result()\n",
        "counts = result.get_counts()\n",
        "plot_histogram(counts)"
      ]
    },
    {
      "cell_type": "markdown",
      "id": "tJtD7DsiFo4Y",
      "metadata": {
        "id": "tJtD7DsiFo4Y"
      },
      "source": [
        "Now, we flip qubit 1 after entangling the bits. This means the qubits must always *disagree* with each other. This is another example of entanglement, where the states of both qubits fundamentally rely on one another."
      ]
    },
    {
      "cell_type": "markdown",
      "id": "hQJELyD6aeJ2",
      "metadata": {
        "id": "hQJELyD6aeJ2"
      },
      "source": []
    }
  ],
  "metadata": {
    "colab": {
      "collapsed_sections": [],
      "provenance": []
    },
    "kernelspec": {
      "display_name": "Qiskit v0.31.0 (ipykernel)",
      "language": "python",
      "name": "python3"
    },
    "language_info": {
      "codemirror_mode": {
        "name": "ipython",
        "version": 3
      },
      "file_extension": ".py",
      "mimetype": "text/x-python",
      "name": "python",
      "nbconvert_exporter": "python",
      "pygments_lexer": "ipython3",
      "version": "3.8.10"
    }
  },
  "nbformat": 4,
  "nbformat_minor": 5
}
