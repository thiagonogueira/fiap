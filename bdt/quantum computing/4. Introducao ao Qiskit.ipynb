{
 "cells": [
  {
   "cell_type": "markdown",
   "id": "d2497f68-e565-4dec-8d5e-ec337e37128e",
   "metadata": {
    "id": "d2497f68-e565-4dec-8d5e-ec337e37128e"
   },
   "source": [
    "# Lab 1: Introdução aoa Qiskit\n",
    "---\n",
    "\n",
    "Neste laboratório vamos criar e simular circuitos quânticos utilizando o Qiskit.\n",
    "\n",
    "---"
   ]
  },
  {
   "cell_type": "markdown",
   "id": "k0Lsovb5VOKP",
   "metadata": {
    "id": "k0Lsovb5VOKP",
    "tags": []
   },
   "source": [
    "## **Parte 0: Importando o Qiskit**\n",
    "---\n",
    "\n",
    "Execute a célula abaixo antes de qualquer outra coisa. Isso importará todas as funções que utilizaremos nesta atividade."
   ]
  },
  {
   "cell_type": "code",
   "execution_count": 1,
   "id": "863aa459-349d-43be-b305-f1ca757b4858",
   "metadata": {
    "id": "863aa459-349d-43be-b305-f1ca757b4858"
   },
   "outputs": [
    {
     "name": "stdout",
     "output_type": "stream",
     "text": [
      "Bibliotecas importadas com sucesso!\n"
     ]
    }
   ],
   "source": [
    "# Importa as bibliotecas padrão do Qiskit\n",
    "from qiskit import QuantumCircuit  #Importando a função QuantumCircuit do Qiskit. Usaremos isso para criar nossos circuitos quânticos!\n",
    "\n",
    "from qiskit.visualization import visualize_transition # Usaremos esta função para executar nosso circuito e visualizar seu estado final\n",
    "from qiskit.visualization import plot_bloch_multivector\n",
    "import warnings  # Estamos usando esta biblioteca para suprimir algumas mensagens de aviso\n",
    "warnings.filterwarnings(\"ignore\")\n",
    "\n",
    "print(\"Bibliotecas importadas com sucesso!\")"
   ]
  },
  {
   "cell_type": "markdown",
   "id": "Wz20xnRmVgZf",
   "metadata": {
    "id": "Wz20xnRmVgZf"
   },
   "source": [
    "## **Part 1: Criando seu primeiro circuito quântico**\n",
    "---"
   ]
  },
  {
   "cell_type": "markdown",
   "id": "mfMteYS3to5n",
   "metadata": {
    "id": "mfMteYS3to5n"
   },
   "source": [
    "#### **Exercício #1:** Defina um cicuito 1-qubit chamado `qc` utilizando a função `QuantumCircuit()`."
   ]
  },
  {
   "cell_type": "code",
   "execution_count": 3,
   "id": "8960aede-1965-4905-92ba-4ee36f22855f",
   "metadata": {
    "id": "8960aede-1965-4905-92ba-4ee36f22855f"
   },
   "outputs": [],
   "source": [
    "qc = QuantumCircuit(1)"
   ]
  },
  {
   "cell_type": "markdown",
   "id": "4ojad3Z6Vwgp",
   "metadata": {
    "id": "4ojad3Z6Vwgp"
   },
   "source": [
    "#### **Exercício #2:** Agora aplique a porta X no qubit 0."
   ]
  },
  {
   "cell_type": "code",
   "execution_count": 4,
   "id": "7cde8cc7-c6a9-4ecd-adc6-7247efefd7c2",
   "metadata": {
    "id": "7cde8cc7-c6a9-4ecd-adc6-7247efefd7c2"
   },
   "outputs": [
    {
     "data": {
      "text/plain": [
       "<qiskit.circuit.instructionset.InstructionSet at 0x7f19491b7c40>"
      ]
     },
     "execution_count": 4,
     "metadata": {},
     "output_type": "execute_result"
    }
   ],
   "source": [
    "qc.x(0)"
   ]
  },
  {
   "cell_type": "markdown",
   "id": "5C4K_yT8ZA6i",
   "metadata": {
    "id": "5C4K_yT8ZA6i"
   },
   "source": [
    "#### **Exercício #3:** Desenhe seu circuito utilizando a função `qc.draw()`."
   ]
  },
  {
   "cell_type": "code",
   "execution_count": null,
   "id": "0265fd66-3c78-48c0-a8d2-c0349ef09407",
   "metadata": {
    "id": "0265fd66-3c78-48c0-a8d2-c0349ef09407"
   },
   "outputs": [],
   "source": []
  },
  {
   "cell_type": "markdown",
   "id": "rClRq4bZZSeI",
   "metadata": {
    "id": "rClRq4bZZSeI"
   },
   "source": [
    "#### **Exercício #4:** Rode seu circuito utilizando a função `visualize_transition(qc, trace = True)`."
   ]
  },
  {
   "cell_type": "code",
   "execution_count": null,
   "id": "63c31d83-6c40-481c-a319-dfba2c7b4849",
   "metadata": {
    "id": "63c31d83-6c40-481c-a319-dfba2c7b4849"
   },
   "outputs": [],
   "source": []
  },
  {
   "cell_type": "markdown",
   "id": "z6fJDyl3ZS_k",
   "metadata": {
    "id": "z6fJDyl3ZS_k"
   },
   "source": [
    "#### **Exercício #5:** Rode seu circuito utilizando a função `visualize_transition(...)`, mas agora com o argumento `trace = False`. \n",
    "\n",
    "#### O que mudou?"
   ]
  },
  {
   "cell_type": "code",
   "execution_count": null,
   "id": "3Wo3flq0Zi_M",
   "metadata": {
    "id": "3Wo3flq0Zi_M"
   },
   "outputs": [],
   "source": []
  },
  {
   "cell_type": "markdown",
   "id": "DMBshLtIZjhX",
   "metadata": {
    "id": "DMBshLtIZjhX"
   },
   "source": [
    "#### **Exercício #6:** Defina um circuito 1-qubit chamado `qc2` e aplique a porta H a ele. Rode o circuito utilizando a função `visualize_transition`."
   ]
  },
  {
   "cell_type": "code",
   "execution_count": null,
   "id": "6abe3595-de47-4b43-a4b5-887467be8974",
   "metadata": {
    "id": "6abe3595-de47-4b43-a4b5-887467be8974",
    "tags": []
   },
   "outputs": [],
   "source": []
  },
  {
   "cell_type": "markdown",
   "id": "TdWc_USpdDbZ",
   "metadata": {
    "id": "TdWc_USpdDbZ"
   },
   "source": [
    "## **Parte 2: Criando circuitos mais avançados**\n",
    "---"
   ]
  },
  {
   "cell_type": "markdown",
   "id": "u6CLps1mdMpo",
   "metadata": {
    "id": "u6CLps1mdMpo"
   },
   "source": [
    "#### **Exercício #1:** Crie um circuito 1-qubit chamado e aplique duas portas X a ele. Rode o circuito utilizando a função `visualize_transition`.\n"
   ]
  },
  {
   "cell_type": "code",
   "execution_count": null,
   "id": "yOobUVxudYa-",
   "metadata": {
    "id": "yOobUVxudYa-"
   },
   "outputs": [],
   "source": []
  },
  {
   "cell_type": "markdown",
   "id": "drSlYoGydZDh",
   "metadata": {
    "id": "drSlYoGydZDh"
   },
   "source": [
    "#### **Exercício #2:** Crie e rode um circuito 1-qubit que aplique as seguintes portas (nesta ordem): X e H."
   ]
  },
  {
   "cell_type": "code",
   "execution_count": null,
   "id": "8qBucNrhdr_4",
   "metadata": {
    "id": "8qBucNrhdr_4"
   },
   "outputs": [],
   "source": []
  },
  {
   "cell_type": "markdown",
   "id": "Y3KybfGahJD0",
   "metadata": {
    "id": "Y3KybfGahJD0"
   },
   "source": [
    "#### **Exercício #3:** Crie e rode um circuito 1-qubit que aplique as seguintes portas (nesta ordem): H e X.\n",
    "\n",
    "#### Este cicuito é o mesmo do exercício anterior? Justifique."
   ]
  },
  {
   "cell_type": "code",
   "execution_count": null,
   "id": "oeN7erhqhRDK",
   "metadata": {
    "id": "oeN7erhqhRDK"
   },
   "outputs": [],
   "source": []
  },
  {
   "cell_type": "markdown",
   "id": "VFUBZhDsAo41",
   "metadata": {
    "id": "VFUBZhDsAo41"
   },
   "source": [
    "#### **Exercício #4:** Crie e rode um circuito 1-qubit que aplique 3 Xs e 3 Hs."
   ]
  },
  {
   "cell_type": "code",
   "execution_count": null,
   "id": "qCNrgjzTAo4_",
   "metadata": {
    "id": "qCNrgjzTAo4_"
   },
   "outputs": [],
   "source": []
  },
  {
   "cell_type": "markdown",
   "id": "Pdem89HiAwI3",
   "metadata": {
    "id": "Pdem89HiAwI3"
   },
   "source": [
    "#### **Exercício #5:** Crie e rode um circuito 1-qubit que aplique X e então: X, H, X, H, X, H."
   ]
  },
  {
   "cell_type": "code",
   "execution_count": null,
   "id": "ym4560Z7AwI5",
   "metadata": {
    "id": "ym4560Z7AwI5"
   },
   "outputs": [],
   "source": []
  },
  {
   "cell_type": "markdown",
   "id": "LjEke4fIA6BV",
   "metadata": {
    "id": "LjEke4fIA6BV"
   },
   "source": [
    "#### **Exercício #6:** É importante lembrar que o Qiskit sempre inicia os qubits no estado $ | 0 \\rangle $. E se quisermos que nosso qubit inicie no estado $ | 1 \\rangle $?\n",
    "Lembrando que $ X | 0 \\rangle = | 1 \\rangle $, basta aplicar X a qualquer qubit que queremos que inicie no estado $ | 1 \\rangle $.\n",
    "\n",
    "Na célula abaixo, crie e rode um circuito 1-qubit que prepare o qubit no estado $ | 1 \\rangle $  e então aplique H a ele."
   ]
  },
  {
   "cell_type": "code",
   "execution_count": null,
   "id": "NoFHyKl1A6BW",
   "metadata": {
    "id": "NoFHyKl1A6BW"
   },
   "outputs": [],
   "source": []
  },
  {
   "cell_type": "markdown",
   "id": "z6zd7pAbBowA",
   "metadata": {
    "id": "z6zd7pAbBowA"
   },
   "source": [
    "#### **Exercício #7:** de maneira similar, podemos preparar nosso qubit no estado $ | + \\rangle $ aplicando H a ele.\n",
    "\n",
    "Na célula abaixo, crie e rode um circuito 1-qubit que prepare o qubit no estado $ | + \\rangle $ e então aplique X a ele."
   ]
  },
  {
   "cell_type": "code",
   "execution_count": null,
   "id": "xU3ce0pXBowJ",
   "metadata": {
    "id": "xU3ce0pXBowJ"
   },
   "outputs": [],
   "source": []
  },
  {
   "cell_type": "markdown",
   "id": "9wCfNQeUB6a8",
   "metadata": {
    "id": "9wCfNQeUB6a8"
   },
   "source": [
    "#### **Exercício #8:** Por fim, crie e rode um circuito 1-qubit que prepare o qubit no estado $ | - \\rangle $ e então aplique X a ele. "
   ]
  },
  {
   "cell_type": "code",
   "execution_count": null,
   "id": "CmEKE-ZYB6a9",
   "metadata": {
    "id": "CmEKE-ZYB6a9"
   },
   "outputs": [],
   "source": []
  }
 ],
 "metadata": {
  "colab": {
   "collapsed_sections": [
    "k0Lsovb5VOKP",
    "DMBshLtIZjhX",
    "u6CLps1mdMpo",
    "drSlYoGydZDh",
    "Y3KybfGahJD0",
    "VFUBZhDsAo41",
    "Pdem89HiAwI3",
    "LjEke4fIA6BV",
    "z6zd7pAbBowA",
    "9wCfNQeUB6a8"
   ],
   "provenance": []
  },
  "kernelspec": {
   "display_name": "Python 3 (ipykernel)",
   "language": "python",
   "name": "python3"
  },
  "language_info": {
   "codemirror_mode": {
    "name": "ipython",
    "version": 3
   },
   "file_extension": ".py",
   "mimetype": "text/x-python",
   "name": "python",
   "nbconvert_exporter": "python",
   "pygments_lexer": "ipython3",
   "version": "3.8.13"
  },
  "widgets": {
   "application/vnd.jupyter.widget-state+json": {
    "state": {},
    "version_major": 2,
    "version_minor": 0
   }
  }
 },
 "nbformat": 4,
 "nbformat_minor": 5
}
